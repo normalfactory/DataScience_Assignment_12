{
 "cells": [
  {
   "cell_type": "code",
   "execution_count": 1,
   "metadata": {},
   "outputs": [],
   "source": [
    "import os\n",
    "\n",
    "import pandas as pd\n",
    "import numpy as np\n",
    "\n",
    "import sqlalchemy\n",
    "from sqlalchemy.ext.automap import automap_base\n",
    "from sqlalchemy.orm import Session\n",
    "from sqlalchemy import create_engine\n",
    "\n",
    "from flask import Flask, jsonify, render_template\n",
    "from flask_sqlalchemy import SQLAlchemy"
   ]
  },
  {
   "cell_type": "code",
   "execution_count": null,
   "metadata": {},
   "outputs": [],
   "source": []
  },
  {
   "cell_type": "markdown",
   "metadata": {},
   "source": [
    "### 1 Test with SQLite\n",
    "Verify code working in Jupyter Notebook using SQLite.print(\"Using Sqlite as database\") "
   ]
  },
  {
   "cell_type": "code",
   "execution_count": 3,
   "metadata": {},
   "outputs": [
    {
     "name": "stdout",
     "output_type": "stream",
     "text": [
      "Using Sqlite as database\n"
     ]
    },
    {
     "name": "stderr",
     "output_type": "stream",
     "text": [
      "/Users/thefixermac/anaconda3/lib/python3.7/site-packages/flask_sqlalchemy/__init__.py:835: FSADeprecationWarning: SQLALCHEMY_TRACK_MODIFICATIONS adds significant overhead and will be disabled by default in the future.  Set it to True or False to suppress this warning.\n",
      "  'SQLALCHEMY_TRACK_MODIFICATIONS adds significant overhead and '\n"
     ]
    }
   ],
   "source": [
    "#-- Prepare Database\n",
    "print(\"Using Sqlite as database\")\n",
    "app = Flask(__name__)\n",
    "app.config[\"SQLALCHEMY_DATABASE_URI\"] = \"sqlite:///db/bellybutton.sqlite\"\n",
    "db = SQLAlchemy(app)\n",
    "\n",
    "# reflect an existing database into a new model\n",
    "Base = automap_base()\n",
    "# reflect the tables\n",
    "Base.prepare(db.engine, reflect=True)\n",
    "\n",
    "# Save references to each table\n",
    "Samples_Metadata = Base.classes.sample_metadata\n",
    "Samples = Base.classes.samples"
   ]
  },
  {
   "cell_type": "code",
   "execution_count": 4,
   "metadata": {},
   "outputs": [
    {
     "data": {
      "text/html": [
       "<div>\n",
       "<style scoped>\n",
       "    .dataframe tbody tr th:only-of-type {\n",
       "        vertical-align: middle;\n",
       "    }\n",
       "\n",
       "    .dataframe tbody tr th {\n",
       "        vertical-align: top;\n",
       "    }\n",
       "\n",
       "    .dataframe thead th {\n",
       "        text-align: right;\n",
       "    }\n",
       "</style>\n",
       "<table border=\"1\" class=\"dataframe\">\n",
       "  <thead>\n",
       "    <tr style=\"text-align: right;\">\n",
       "      <th></th>\n",
       "      <th>otu_id</th>\n",
       "      <th>otu_label</th>\n",
       "      <th>940</th>\n",
       "      <th>941</th>\n",
       "      <th>943</th>\n",
       "      <th>944</th>\n",
       "      <th>945</th>\n",
       "      <th>946</th>\n",
       "      <th>947</th>\n",
       "      <th>948</th>\n",
       "      <th>...</th>\n",
       "      <th>1562</th>\n",
       "      <th>1563</th>\n",
       "      <th>1564</th>\n",
       "      <th>1572</th>\n",
       "      <th>1573</th>\n",
       "      <th>1574</th>\n",
       "      <th>1576</th>\n",
       "      <th>1577</th>\n",
       "      <th>1581</th>\n",
       "      <th>1601</th>\n",
       "    </tr>\n",
       "  </thead>\n",
       "  <tbody>\n",
       "    <tr>\n",
       "      <th>0</th>\n",
       "      <td>1</td>\n",
       "      <td>Archaea;Euryarchaeota;Halobacteria;Halobacteri...</td>\n",
       "      <td>0</td>\n",
       "      <td>0</td>\n",
       "      <td>0</td>\n",
       "      <td>0</td>\n",
       "      <td>0</td>\n",
       "      <td>0</td>\n",
       "      <td>0</td>\n",
       "      <td>0.0</td>\n",
       "      <td>...</td>\n",
       "      <td>0</td>\n",
       "      <td>0</td>\n",
       "      <td>0</td>\n",
       "      <td>0</td>\n",
       "      <td>0</td>\n",
       "      <td>0</td>\n",
       "      <td>0</td>\n",
       "      <td>0</td>\n",
       "      <td>0</td>\n",
       "      <td>0</td>\n",
       "    </tr>\n",
       "    <tr>\n",
       "      <th>1</th>\n",
       "      <td>2</td>\n",
       "      <td>Archaea;Euryarchaeota;Halobacteria;Halobacteri...</td>\n",
       "      <td>0</td>\n",
       "      <td>0</td>\n",
       "      <td>0</td>\n",
       "      <td>0</td>\n",
       "      <td>0</td>\n",
       "      <td>0</td>\n",
       "      <td>0</td>\n",
       "      <td>0.0</td>\n",
       "      <td>...</td>\n",
       "      <td>0</td>\n",
       "      <td>0</td>\n",
       "      <td>0</td>\n",
       "      <td>0</td>\n",
       "      <td>0</td>\n",
       "      <td>0</td>\n",
       "      <td>0</td>\n",
       "      <td>0</td>\n",
       "      <td>0</td>\n",
       "      <td>0</td>\n",
       "    </tr>\n",
       "    <tr>\n",
       "      <th>2</th>\n",
       "      <td>3</td>\n",
       "      <td>Archaea;Euryarchaeota;Halobacteria;Halobacteri...</td>\n",
       "      <td>0</td>\n",
       "      <td>0</td>\n",
       "      <td>0</td>\n",
       "      <td>0</td>\n",
       "      <td>0</td>\n",
       "      <td>0</td>\n",
       "      <td>0</td>\n",
       "      <td>0.0</td>\n",
       "      <td>...</td>\n",
       "      <td>0</td>\n",
       "      <td>0</td>\n",
       "      <td>0</td>\n",
       "      <td>0</td>\n",
       "      <td>0</td>\n",
       "      <td>0</td>\n",
       "      <td>0</td>\n",
       "      <td>0</td>\n",
       "      <td>0</td>\n",
       "      <td>0</td>\n",
       "    </tr>\n",
       "    <tr>\n",
       "      <th>3</th>\n",
       "      <td>4</td>\n",
       "      <td>Archaea;Euryarchaeota;Methanobacteria;Methanob...</td>\n",
       "      <td>0</td>\n",
       "      <td>0</td>\n",
       "      <td>0</td>\n",
       "      <td>0</td>\n",
       "      <td>0</td>\n",
       "      <td>0</td>\n",
       "      <td>0</td>\n",
       "      <td>0.0</td>\n",
       "      <td>...</td>\n",
       "      <td>0</td>\n",
       "      <td>0</td>\n",
       "      <td>0</td>\n",
       "      <td>0</td>\n",
       "      <td>0</td>\n",
       "      <td>0</td>\n",
       "      <td>0</td>\n",
       "      <td>0</td>\n",
       "      <td>0</td>\n",
       "      <td>0</td>\n",
       "    </tr>\n",
       "    <tr>\n",
       "      <th>4</th>\n",
       "      <td>5</td>\n",
       "      <td>Archaea;Euryarchaeota;Methanobacteria;Methanob...</td>\n",
       "      <td>0</td>\n",
       "      <td>0</td>\n",
       "      <td>0</td>\n",
       "      <td>0</td>\n",
       "      <td>0</td>\n",
       "      <td>0</td>\n",
       "      <td>0</td>\n",
       "      <td>0.0</td>\n",
       "      <td>...</td>\n",
       "      <td>0</td>\n",
       "      <td>0</td>\n",
       "      <td>0</td>\n",
       "      <td>0</td>\n",
       "      <td>0</td>\n",
       "      <td>0</td>\n",
       "      <td>0</td>\n",
       "      <td>0</td>\n",
       "      <td>0</td>\n",
       "      <td>0</td>\n",
       "    </tr>\n",
       "  </tbody>\n",
       "</table>\n",
       "<p>5 rows × 155 columns</p>\n",
       "</div>"
      ],
      "text/plain": [
       "   otu_id                                          otu_label  940  941  943  \\\n",
       "0       1  Archaea;Euryarchaeota;Halobacteria;Halobacteri...    0    0    0   \n",
       "1       2  Archaea;Euryarchaeota;Halobacteria;Halobacteri...    0    0    0   \n",
       "2       3  Archaea;Euryarchaeota;Halobacteria;Halobacteri...    0    0    0   \n",
       "3       4  Archaea;Euryarchaeota;Methanobacteria;Methanob...    0    0    0   \n",
       "4       5  Archaea;Euryarchaeota;Methanobacteria;Methanob...    0    0    0   \n",
       "\n",
       "   944  945  946  947  948  ...   1562  1563  1564  1572  1573  1574  1576  \\\n",
       "0    0    0    0    0  0.0  ...      0     0     0     0     0     0     0   \n",
       "1    0    0    0    0  0.0  ...      0     0     0     0     0     0     0   \n",
       "2    0    0    0    0  0.0  ...      0     0     0     0     0     0     0   \n",
       "3    0    0    0    0  0.0  ...      0     0     0     0     0     0     0   \n",
       "4    0    0    0    0  0.0  ...      0     0     0     0     0     0     0   \n",
       "\n",
       "   1577  1581  1601  \n",
       "0     0     0     0  \n",
       "1     0     0     0  \n",
       "2     0     0     0  \n",
       "3     0     0     0  \n",
       "4     0     0     0  \n",
       "\n",
       "[5 rows x 155 columns]"
      ]
     },
     "execution_count": 4,
     "metadata": {},
     "output_type": "execute_result"
    }
   ],
   "source": [
    "#-- Read Database: Names of samples\n",
    "stmt = db.session.query(Samples).statement\n",
    "df = pd.read_sql_query(stmt, db.session.bind)\n",
    "\n",
    "df.head()"
   ]
  },
  {
   "cell_type": "code",
   "execution_count": 6,
   "metadata": {},
   "outputs": [
    {
     "name": "stdout",
     "output_type": "stream",
     "text": [
      "{'sample': 940, 'ETHNICITY': 'Caucasian', 'GENDER': 'F', 'AGE': 24.0, 'LOCATION': 'Beaufort/NC', 'BBTYPE': 'I', 'WFREQ': 2.0}\n"
     ]
    }
   ],
   "source": [
    "#-- Read Database: Sample Dataset Metadata\n",
    "sample = \"940\"\n",
    "\n",
    "sel = [\n",
    "        Samples_Metadata.sample,\n",
    "        Samples_Metadata.ETHNICITY,\n",
    "        Samples_Metadata.GENDER,\n",
    "        Samples_Metadata.AGE,\n",
    "        Samples_Metadata.LOCATION,\n",
    "        Samples_Metadata.BBTYPE,\n",
    "        Samples_Metadata.WFREQ,\n",
    "    ]\n",
    "\n",
    "results = db.session.query(*sel).filter(Samples_Metadata.sample == sample).all()\n",
    "\n",
    "# Create a dictionary entry for each row of metadata information\n",
    "sample_metadata = {}\n",
    "for result in results:\n",
    "    sample_metadata[\"sample\"] = result[0]\n",
    "    sample_metadata[\"ETHNICITY\"] = result[1]\n",
    "    sample_metadata[\"GENDER\"] = result[2]\n",
    "    sample_metadata[\"AGE\"] = result[3]\n",
    "    sample_metadata[\"LOCATION\"] = result[4]\n",
    "    sample_metadata[\"BBTYPE\"] = result[5]\n",
    "    sample_metadata[\"WFREQ\"] = result[6]\n",
    "\n",
    "print(sample_metadata)"
   ]
  },
  {
   "cell_type": "code",
   "execution_count": 7,
   "metadata": {},
   "outputs": [
    {
     "name": "stdout",
     "output_type": "stream",
     "text": [
      "{'otu_ids': [41, 121, 159, 165, 170, 189, 258, 259, 307, 340, 342, 352, 357, 412, 482, 513, 725, 830, 833, 874, 907, 944, 1167, 1169, 1189, 1193, 1208, 1232, 1274, 1314, 1497, 1498, 1503, 1505, 1795, 1950, 1959, 1960, 1962, 1968, 1977, 2011, 2024, 2039, 2065, 2077, 2110, 2167, 2178, 2184, 2186, 2188, 2191, 2235, 2244, 2247, 2264, 2275, 2291, 2318, 2335, 2342, 2350, 2396, 2419, 2475, 2483, 2491, 2546, 2571, 2722, 2737, 2739, 2782, 2811, 2859, 2908, 2936, 2964, 3450], 'sample_values': [71, 2, 2, 12, 2, 47, 2, 2, 7, 2, 2, 50, 2, 2, 113, 2, 2, 10, 3, 36, 3, 19, 163, 2, 51, 6, 5, 2, 4, 3, 2, 2, 2, 2, 10, 25, 30, 2, 3, 2, 40, 11, 13, 5, 2, 23, 2, 5, 7, 19, 3, 2, 28, 2, 14, 11, 78, 22, 2, 40, 3, 2, 2, 11, 13, 2, 2, 2, 2, 2, 8, 4, 4, 12, 13, 126, 7, 3, 10, 37], 'otu_labels': ['Bacteria', 'Bacteria', 'Bacteria', 'Bacteria', 'Bacteria', 'Bacteria', 'Bacteria', 'Bacteria', 'Bacteria', 'Bacteria', 'Bacteria', 'Bacteria', 'Bacteria', 'Bacteria', 'Bacteria', 'Bacteria', 'Bacteria;Actinobacteria;Actinobacteria;Actinomycetales', 'Bacteria;Actinobacteria;Actinobacteria;Actinomycetales', 'Bacteria;Actinobacteria;Actinobacteria;Actinomycetales;Actinomycetaceae', 'Bacteria;Actinobacteria;Actinobacteria;Actinomycetales;Actinomycetaceae;Varibaculum', 'Bacteria;Actinobacteria;Actinobacteria;Actinomycetales;Corynebacteriaceae', 'Bacteria;Actinobacteria;Actinobacteria;Actinomycetales;Corynebacteriaceae;Corynebacterium', 'Bacteria;Bacteroidetes;Bacteroidia;Bacteroidales;Porphyromonadaceae;Porphyromonas', 'Bacteria;Bacteroidetes;Bacteroidia;Bacteroidales;Porphyromonadaceae;Porphyromonas', 'Bacteria;Bacteroidetes;Bacteroidia;Bacteroidales;Porphyromonadaceae;Porphyromonas', 'Bacteria;Bacteroidetes;Bacteroidia;Bacteroidales;Porphyromonadaceae;Porphyromonas', 'Bacteria;Bacteroidetes;Bacteroidia;Bacteroidales;Porphyromonadaceae;Porphyromonas', 'Bacteria;Bacteroidetes;Bacteroidia;Bacteroidales;Porphyromonadaceae;Porphyromonas', 'Bacteria;Bacteroidetes;Bacteroidia;Bacteroidales;Prevotellaceae', 'Bacteria;Bacteroidetes;Bacteroidia;Bacteroidales;Prevotellaceae;Prevotella', 'Bacteria;Firmicutes', 'Bacteria;Firmicutes', 'Bacteria;Firmicutes', 'Bacteria;Firmicutes', 'Bacteria;Firmicutes;Bacilli;Bacillales;Staphylococcaceae;Staphylococcus', 'Bacteria;Firmicutes;Clostridia', 'Bacteria;Firmicutes;Clostridia', 'Bacteria;Firmicutes;Clostridia', 'Bacteria;Firmicutes;Clostridia', 'Bacteria;Firmicutes;Clostridia', 'Bacteria;Firmicutes;Clostridia;Clostridiales', 'Bacteria;Firmicutes;Clostridia;Clostridiales', 'Bacteria;Firmicutes;Clostridia;Clostridiales', 'Bacteria;Firmicutes;Clostridia;Clostridiales', 'Bacteria;Firmicutes;Clostridia;Clostridiales', 'Bacteria;Firmicutes;Clostridia;Clostridiales', 'Bacteria;Firmicutes;Clostridia;Clostridiales', 'Bacteria;Firmicutes;Clostridia;Clostridiales', 'Bacteria;Firmicutes;Clostridia;Clostridiales', 'Bacteria;Firmicutes;Clostridia;Clostridiales;IncertaeSedisXI', 'Bacteria;Firmicutes;Clostridia;Clostridiales;IncertaeSedisXI', 'Bacteria;Firmicutes;Clostridia;Clostridiales;IncertaeSedisXI', 'Bacteria;Firmicutes;Clostridia;Clostridiales;IncertaeSedisXI', 'Bacteria;Firmicutes;Clostridia;Clostridiales;IncertaeSedisXI', 'Bacteria;Firmicutes;Clostridia;Clostridiales;IncertaeSedisXI', 'Bacteria;Firmicutes;Clostridia;Clostridiales;IncertaeSedisXI', 'Bacteria;Firmicutes;Clostridia;Clostridiales;IncertaeSedisXI', 'Bacteria;Firmicutes;Clostridia;Clostridiales;IncertaeSedisXI', 'Bacteria;Firmicutes;Clostridia;Clostridiales;IncertaeSedisXI', 'Bacteria;Firmicutes;Clostridia;Clostridiales;IncertaeSedisXI;Anaerococcus', 'Bacteria;Firmicutes;Clostridia;Clostridiales;IncertaeSedisXI;Anaerococcus', 'Bacteria;Firmicutes;Clostridia;Clostridiales;IncertaeSedisXI;Anaerococcus', 'Bacteria;Firmicutes;Clostridia;Clostridiales;IncertaeSedisXI;Anaerococcus', 'Bacteria;Firmicutes;Clostridia;Clostridiales;IncertaeSedisXI;Anaerococcus', 'Bacteria;Firmicutes;Clostridia;Clostridiales;IncertaeSedisXI;Anaerococcus', 'Bacteria;Firmicutes;Clostridia;Clostridiales;IncertaeSedisXI;Anaerococcus', 'Bacteria;Firmicutes;Clostridia;Clostridiales;IncertaeSedisXI;Anaerococcus', 'Bacteria;Firmicutes;Clostridia;Clostridiales;IncertaeSedisXI;Anaerococcus', 'Bacteria;Firmicutes;Clostridia;Clostridiales;IncertaeSedisXI;Anaerococcus', 'Bacteria;Firmicutes;Clostridia;Clostridiales;IncertaeSedisXI;Anaerococcus', 'Bacteria;Firmicutes;Clostridia;Clostridiales;IncertaeSedisXI;Finegoldia', 'Bacteria;Firmicutes;Clostridia;Clostridiales;IncertaeSedisXI;Gallicola', 'Bacteria;Firmicutes;Clostridia;Clostridiales;IncertaeSedisXI;Gallicola', 'Bacteria;Firmicutes;Clostridia;Clostridiales;IncertaeSedisXI;Peptoniphilus', 'Bacteria;Firmicutes;Clostridia;Clostridiales;IncertaeSedisXI;Peptoniphilus', 'Bacteria;Firmicutes;Clostridia;Clostridiales;IncertaeSedisXI;Peptoniphilus', 'Bacteria;Firmicutes;Clostridia;Clostridiales;Peptococcaceae;Peptococcus', 'Bacteria;Firmicutes;Clostridia;Clostridiales;Ruminococcaceae', 'Bacteria;Firmicutes;Clostridia;Clostridiales;Veillonellaceae', 'Bacteria;Proteobacteria;Epsilonproteobacteria;Campylobacterales;Campylobacteraceae;Campylobacter']}\n"
     ]
    }
   ],
   "source": [
    "#-- Read Database: Sample Data\n",
    "stmt = db.session.query(Samples).statement\n",
    "df = pd.read_sql_query(stmt, db.session.bind)\n",
    "\n",
    "# Filter the data based on the sample number and\n",
    "# only keep rows with values above 1\n",
    "sample_data = df.loc[df[sample] > 1, [\"otu_id\", \"otu_label\", sample]]\n",
    "# Format the data to send as json\n",
    "data = {\n",
    "    \"otu_ids\": sample_data.otu_id.values.tolist(),\n",
    "    \"sample_values\": sample_data[sample].values.tolist(),\n",
    "    \"otu_labels\": sample_data.otu_label.tolist(),\n",
    "}\n",
    "\n",
    "print(data)"
   ]
  },
  {
   "cell_type": "markdown",
   "metadata": {},
   "source": [
    "### 2 Read Postgres"
   ]
  },
  {
   "cell_type": "code",
   "execution_count": null,
   "metadata": {},
   "outputs": [],
   "source": []
  },
  {
   "cell_type": "code",
   "execution_count": null,
   "metadata": {},
   "outputs": [],
   "source": []
  },
  {
   "cell_type": "code",
   "execution_count": null,
   "metadata": {},
   "outputs": [],
   "source": []
  },
  {
   "cell_type": "code",
   "execution_count": null,
   "metadata": {},
   "outputs": [],
   "source": []
  },
  {
   "cell_type": "code",
   "execution_count": null,
   "metadata": {},
   "outputs": [],
   "source": []
  },
  {
   "cell_type": "code",
   "execution_count": null,
   "metadata": {},
   "outputs": [],
   "source": []
  },
  {
   "cell_type": "code",
   "execution_count": null,
   "metadata": {},
   "outputs": [],
   "source": []
  }
 ],
 "metadata": {
  "kernelspec": {
   "display_name": "Python 3",
   "language": "python",
   "name": "python3"
  },
  "language_info": {
   "codemirror_mode": {
    "name": "ipython",
    "version": 3
   },
   "file_extension": ".py",
   "mimetype": "text/x-python",
   "name": "python",
   "nbconvert_exporter": "python",
   "pygments_lexer": "ipython3",
   "version": "3.7.1"
  }
 },
 "nbformat": 4,
 "nbformat_minor": 2
}
